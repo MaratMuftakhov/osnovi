{
  "cells": [
    {
      "cell_type": "markdown",
      "metadata": {
        "id": "M-DGa20PaHnu"
      },
      "source": [
        "#Задача 1\n",
        "Написать функцию на вход которой подается строка, состоящая из латинских букв.\n",
        "Функция должна вернуть количество гласных букв (a, e, i, o, u) в этой строке. Написать тесты для кода"
      ]
    },
    {
      "cell_type": "code",
      "execution_count": 61,
      "metadata": {},
      "outputs": [
        {
          "name": "stdout",
          "output_type": "stream",
          "text": [
            "2\n",
            "1\n",
            "Неправильная строка\n",
            "Неправильная строка\n",
            "Неправильная строка\n"
          ]
        }
      ],
      "source": [
        "def count(text):\n",
        "    if type(text) != str:\n",
        "        return \"Неправильная строка\"\n",
        "    counter = 0\n",
        "    for symbol in text:\n",
        "        if symbol in \"1234567890\":\n",
        "            return \"Неправильная строка\"\n",
        "        if symbol in \"aeiou\":\n",
        "            counter +=1\n",
        "    return counter\n",
        "print(count(\"Hello\"))\n",
        "print(count(\"Hi\"))\n",
        "print(count(\"1Hello\"))\n",
        "print(count(\"He1lo\"))\n",
        "print(count(123))"
      ]
    },
    {
      "cell_type": "markdown",
      "metadata": {
        "id": "t2ClV_Y0bbr6"
      },
      "source": [
        "# Задача 2\n",
        "Написать функцию на вход, которой подается строка. Функция должна вернуть true, если\n",
        "каждый символ в строке встречается только 1 раз, иначе должна вернуть false. Написать тесты для кода"
      ]
    },
    {
      "cell_type": "code",
      "execution_count": 60,
      "metadata": {
        "id": "FppbECao6VIz"
      },
      "outputs": [
        {
          "name": "stdout",
          "output_type": "stream",
          "text": [
            "False\n",
            "False\n",
            "True\n",
            "True\n",
            "Неправильная строка\n"
          ]
        }
      ],
      "source": [
        "def check(text):\n",
        "    if type(text) != str:\n",
        "        return \"Неправильная строка\"\n",
        "    secondtext = \"\"\n",
        "    for symbol in text:\n",
        "        if symbol in secondtext:\n",
        "            return False\n",
        "        else:\n",
        "            secondtext += symbol\n",
        "    return True\n",
        "print(check(\"aa\"))\n",
        "print(check(\"Hello\"))\n",
        "print(check(\"Halo\"))\n",
        "print(check(\"1234567890\"))\n",
        "print(check(123))"
      ]
    },
    {
      "cell_type": "markdown",
      "metadata": {
        "id": "udRiIK1cdt6E"
      },
      "source": [
        "# Задача 3\n",
        "Написать функцию, которая принимает положительное число и возвращает количество\n",
        "бит равных 1 в этом числе. Написать тесты для кода"
      ]
    },
    {
      "cell_type": "code",
      "execution_count": 59,
      "metadata": {
        "id": "6tkfDJRz6dp_"
      },
      "outputs": [
        {
          "name": "stdout",
          "output_type": "stream",
          "text": [
            "2\n",
            "Неправильное число\n",
            "1\n",
            "6\n",
            "Неправильное число\n"
          ]
        }
      ],
      "source": [
        "def bit(num):\n",
        "    if type(num) != int or num < 0:\n",
        "        return \"Неправильное число\"\n",
        "    return bin(num).count(\"1\")\n",
        "    \n",
        "print(bit(12))\n",
        "print(bit(-12))\n",
        "print(bit(1))\n",
        "print(bit(888))\n",
        "print(bit(\"hello\"))"
      ]
    },
    {
      "cell_type": "markdown",
      "metadata": {
        "id": "26dDUz-Ae17N"
      },
      "source": [
        "# Задача 4\n",
        "Написать функцию, которая принимает положительное число. Функция должна вернуть то,\n",
        "сколько раз необходимо перемножать цифры числа или результат перемножения, чтобы\n",
        "получилось число состоящее из одной цифры.\n",
        "Например, для входного числа:\n",
        "· 39 функция должна вернуть 3, так как 3*9=27 => 2*7=14 => 1*4=4\n",
        "· 4 функция должна вернуть 0, так как число уже состоит из одной цифры\n",
        "· 999 функция должна вернуть 4, так как 9*9*9=729 => 7*2*9=126 => 1*2*6=12 =>\n",
        "1*2=2. Написать тесты для кода"
      ]
    },
    {
      "cell_type": "code",
      "execution_count": 58,
      "metadata": {
        "id": "BH1A_Mgi6i4G"
      },
      "outputs": [
        {
          "name": "stdout",
          "output_type": "stream",
          "text": [
            "3\n",
            "4\n",
            "0\n",
            "1\n",
            "Неправильное число\n",
            "Неправильное число\n"
          ]
        }
      ],
      "source": [
        "def magic(number):\n",
        "   if type(number) != int or number < 0:\n",
        "      return \"Неправильное число\"\n",
        "   counter = 0\n",
        "   while number > 9:\n",
        "     number = secondMagic(number)\n",
        "     counter +=1\n",
        "   return counter\n",
        "def secondMagic(number):\n",
        "    mult = 1\n",
        "    while number > 0:\n",
        "       digit = number % 10\n",
        "       mult = mult * digit\n",
        "       number = number//10\n",
        "    return mult\n",
        "print(magic(39))\n",
        "print(magic(999))\n",
        "print(magic(4))\n",
        "print(magic(11))\n",
        "print(magic(-1))\n",
        "print(magic(\"Hello\"))"
      ]
    },
    {
      "cell_type": "markdown",
      "metadata": {
        "id": "0nS-kIa8g8vd"
      },
      "source": [
        "# Задача 5\n",
        "Написать функцию, которая принимает два целочисленных вектора одинаковой длины и\n",
        "возвращает среднеквадратическое отклонение двух векторов. Написать тесты для кода"
      ]
    },
    {
      "cell_type": "code",
      "execution_count": 18,
      "metadata": {
        "id": "8iphx4LM6xbx"
      },
      "outputs": [
        {
          "name": "stdout",
          "output_type": "stream",
          "text": [
            "1.6666666666666667\n",
            "Неправильный тип данных\n",
            "Разные длины массивов\n",
            "245.66666666666666\n"
          ]
        }
      ],
      "source": [
        "def mse(actual, pred): \n",
        "    if len(actual) != len(pred):\n",
        "        return \"Разные длины массивов\"\n",
        "    counter = 0\n",
        "    sum = 0\n",
        "    length = len(actual)\n",
        "    while counter < length:\n",
        "        if type(actual[counter])!= int or type(pred[counter])!= int:\n",
        "            return \"Неправильный тип данных\"\n",
        "        counter+=1\n",
        "    counter = 0\n",
        "    newArray = []\n",
        "    while counter < length:\n",
        "        between = actual[counter] - pred[counter]\n",
        "        newArray.append(between)\n",
        "        counter+=1\n",
        "    counter = 0\n",
        "    while counter < length:\n",
        "        sum+= square(newArray[counter])\n",
        "        counter+=1\n",
        "    return sum / length\n",
        "\n",
        "def square(number):\n",
        "    return number * number\n",
        "\n",
        "print(mse([0, 1, 2], [0, 0, 0]))\n",
        "print(mse([\"a\",\"b\"], [\"12\",\"32\"]))\n",
        "print(mse([0, 1, 2, 3], [0, 0, 0]))\n",
        "print(mse([7, 11, 28], [5, 9, 1]))"
      ]
    },
    {
      "cell_type": "markdown",
      "metadata": {
        "id": "vpIPKL439zkw"
      },
      "source": [
        "# Задача 6\n",
        "Написать функцию, принимающая целое положительное число. Функция должна вернуть\n",
        "строку вида “(n1**p1)(n2**p2)…(nk**pk)” представляющая разложение числа на простые\n",
        "множители (если pi == 1, то выводить только ni).\n",
        "Например, для числа 86240 функция должна вернуть “(2**5)(5)(7**2)(11)”. Написать тесты для кода"
      ]
    },
    {
      "cell_type": "code",
      "execution_count": 22,
      "metadata": {
        "id": "pFebmcZk94Jw"
      },
      "outputs": [
        {
          "name": "stdout",
          "output_type": "stream",
          "text": [
            "[2, 2, 2, 2, 2, 5, 7, 7, 11.0]\n",
            "[7, 7]\n",
            "Прочти задание ещё раз)\n",
            "Прочти задание ещё раз)\n"
          ]
        }
      ],
      "source": [
        "def primfacs(number):\n",
        "   if type(number) != int or number < 0:\n",
        "       return \"Прочти задание ещё раз)\"\n",
        "   i = 2\n",
        "   primfac = []\n",
        "   while i * i <= number:\n",
        "       while number % i == 0:\n",
        "           primfac.append(i)\n",
        "           number = number / i\n",
        "       i = i + 1\n",
        "   if number > 1:\n",
        "       primfac.append(number)\n",
        "   return primfac\n",
        "\n",
        "print(primfacs(86240))\n",
        "print(primfacs(49))\n",
        "print(primfacs(-49))\n",
        "print(primfacs(\"av\"))"
      ]
    },
    {
      "cell_type": "markdown",
      "metadata": {
        "id": "ps2s0BudX7A2"
      },
      "source": [
        "# Задача 7\n",
        "Написать функцию, принимающая целое число n, задающее количество кубиков. Функция\n",
        "должна определить, можно ли из данного кол-ва кубиков построить пирамиду, то есть\n",
        "можно ли представить число n как 1^2+2^2+3^2+…+k^2. Если можно, то функция должна\n",
        "вернуть k, иначе строку “It is impossible”. Написать тесты для кода"
      ]
    },
    {
      "cell_type": "code",
      "execution_count": 63,
      "metadata": {
        "id": "3YPjEXxhX_YT"
      },
      "outputs": [
        {
          "name": "stdout",
          "output_type": "stream",
          "text": [
            "It is impossible\n",
            "1\n",
            "Неправильное число\n",
            "2\n",
            "Неправильное число\n"
          ]
        }
      ],
      "source": [
        "def pyramid(number):\n",
        "    if type(number) != int or number < 0:\n",
        "        return \"Неправильное число\"\n",
        "    k = 1\n",
        "    sum = 1\n",
        "    while sum < number:\n",
        "        k+=1\n",
        "        sum +=square(k)\n",
        "    if sum == number:\n",
        "        return k\n",
        "    else:\n",
        "        return \"It is impossible\"\n",
        "\n",
        "def square(number):\n",
        "    return number * number\n",
        "\n",
        "print(pyramid(4))\n",
        "print(pyramid(1))\n",
        "print(pyramid(-1))\n",
        "print(pyramid(5))\n",
        "print(pyramid(\"hello\"))\n"
      ]
    },
    {
      "cell_type": "markdown",
      "metadata": {
        "id": "KeKgmIdAQMEJ"
      },
      "source": [
        "# Задача 8\n",
        "Функция принимает на вход положительное число и определяет является ли оно сбалансированным, т.е. сумма цифр до средних равна сумме цифр после. Средними в случае нечетного числа цифр считать одну цифру, в случае четного - две средних. Написать тесты для кода"
      ]
    },
    {
      "cell_type": "code",
      "execution_count": 62,
      "metadata": {
        "id": "gMAAqtqlQrZt"
      },
      "outputs": [
        {
          "name": "stdout",
          "output_type": "stream",
          "text": [
            "[1, 4]\n",
            "[1, 3]\n",
            "[0, 0]\n",
            "Неправильное число\n",
            "Неправильное число\n"
          ]
        }
      ],
      "source": [
        "def magic(number):\n",
        "    if type(number) != int or number < 0:\n",
        "        return(\"Неправильное число\")\n",
        "    stringNumber = str(number)\n",
        "    length = len(stringNumber)\n",
        "    if IsEven(length):\n",
        "        middle = stringNumber[int(length / 2 -0.5)] + stringNumber[int(length / 2 + 0.5)]\n",
        "        return SumOperation(middle, stringNumber, -2)\n",
        "    else:\n",
        "        middle = stringNumber[int(length / 2 -0.5)]\n",
        "        return SumOperation(middle, stringNumber, -1)\n",
        "\n",
        "def SumOperation(middle, number, middleCounter):\n",
        "    sum = 0\n",
        "    secondSum = 0\n",
        "    for c in number:\n",
        "        if c not in middle:\n",
        "            if middleCounter < 0:\n",
        "                sum +=int(c)\n",
        "            if middleCounter == 0:\n",
        "                secondSum+=int(c)\n",
        "        else:\n",
        "            middleCounter +=1\n",
        "    return [sum, secondSum]\n",
        "\n",
        "def IsEven(number):\n",
        "    if number % 2 == 1:\n",
        "        return False\n",
        "    return True\n",
        "\n",
        "print(magic(1234))\n",
        "print(magic(123))\n",
        "print(magic(12))\n",
        "print(magic(-142))\n",
        "print(magic(\"Hello\"))"
      ]
    }
  ],
  "metadata": {
    "colab": {
      "provenance": []
    },
    "kernelspec": {
      "display_name": "Python 3",
      "name": "python3"
    },
    "language_info": {
      "codemirror_mode": {
        "name": "ipython",
        "version": 3
      },
      "file_extension": ".py",
      "mimetype": "text/x-python",
      "name": "python",
      "nbconvert_exporter": "python",
      "pygments_lexer": "ipython3",
      "version": "3.11.5"
    }
  },
  "nbformat": 4,
  "nbformat_minor": 0
}
