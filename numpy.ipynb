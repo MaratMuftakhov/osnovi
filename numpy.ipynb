{
  "cells": [
    {
      "cell_type": "markdown",
      "metadata": {
        "id": "vC84e9kzyxPy"
      },
      "source": [
        "<h1>Импорт библиотек"
      ]
    },
    {
      "cell_type": "code",
      "execution_count": 1,
      "metadata": {
        "id": "cgKeNegmQG5S"
      },
      "outputs": [],
      "source": [
        "import numpy as np\n",
        "import matplotlib.pyplot as plt\n",
        "import scipy.stats as sps\n",
        "import matplotlib.patches as patches"
      ]
    },
    {
      "cell_type": "markdown",
      "metadata": {
        "id": "qFM9uVU2x4Ls"
      },
      "source": [
        "<h1>Задача 1. Дан набор из $p$ матриц размерностью $(n, n)$ и $p$ векторов размерностью $(n, 1)$, найти сумму произведений матриц на векторы. Написать тесты для кода"
      ]
    },
    {
      "cell_type": "code",
      "execution_count": 84,
      "metadata": {
        "id": "IAbUvEiYyWFF"
      },
      "outputs": [
        {
          "name": "stdout",
          "output_type": "stream",
          "text": [
            "[[25]\n",
            " [10]\n",
            " [22]]\n",
            "\n",
            "[[50]\n",
            " [15]\n",
            " [47]]\n",
            "\n",
            "Неправильные матрицы\n"
          ]
        }
      ],
      "source": [
        "def sum_prod(X, V):\n",
        "    if X.dtype != int or V.dtype != int:\n",
        "        return \"Неправильные матрицы\"\n",
        "    if type(X) != np.ndarray or type(V) != np.ndarray:\n",
        "        X = np.array(X)\n",
        "        V = np.array(V)\n",
        "    summa = sum(X.dot(i) for i in V)\n",
        "    return summa\n",
        "print(sum_prod(np.array([[1,9,2], [3, 2, 1], [9, 2, 3]]), np.array([[[1], [2], [3]]])))\n",
        "print()\n",
        "print(sum_prod(np.array([[1, 9, 2, 5], [3, 2, 1, 1], [9, 2, 3, 5]]), np.array([[[1], [2], [3],[5]]] )))\n",
        "print()\n",
        "print(sum_prod(np.array([[\"1\",\"9\",\"2\"], [\"3\", \"2\", \"1\"], [9, 2, 3]]), np.array([[[1], [2], [3]]])))\n"
      ]
    },
    {
      "cell_type": "markdown",
      "metadata": {
        "id": "TKwPG4fIy2w4"
      },
      "source": [
        "<h1>Задача 2. Дана матрица M, напишите функцию, которая бинаризует матрицу по некоторому threshold (то есть, все значения большие threshold становятся равными 1, иначе 0). Напишите тесты для кода"
      ]
    },
    {
      "cell_type": "code",
      "execution_count": 32,
      "metadata": {
        "id": "KQDNMgsjRNH7"
      },
      "outputs": [
        {
          "name": "stdout",
          "output_type": "stream",
          "text": [
            "[[0 0 1]\n",
            " [1 0 0]]\n",
            "\n",
            "Неправильная матрица\n",
            "\n",
            "[[1 0 1]\n",
            " [1 0 0]\n",
            " [1 0 1]]\n"
          ]
        }
      ],
      "source": [
        "def binarize(M, threshold=2):\n",
        "    if M.dtype != int:\n",
        "        return \"Неправильная матрица\"\n",
        "    size = M.shape\n",
        "    for height in range(0,size[0]):\n",
        "        for width in range(0,size[1]):\n",
        "            if M[height, width] > threshold:\n",
        "                M[height, width] = 1\n",
        "            else:\n",
        "                M[height, width] = 0\n",
        "    return M\n",
        "\n",
        "print(binarize(np.array([[1,2,3],[3,2,1]])))\n",
        "print()\n",
        "print(binarize(np.array([[\"а\",\"ьб\",\"б\"],[\"г\",\"2\",\"1\"]])))\n",
        "print()\n",
        "print(binarize(np.array([[7,2,3],[3,2,1],[3,1,7]])))\n",
        "\n"
      ]
    },
    {
      "cell_type": "markdown",
      "metadata": {
        "id": "IY5L-h-7zWhN"
      },
      "source": [
        "<h1>Задача 3. Напишите функцию, которая возвращает уникальные элементы из каждой строки матрицы. Напишите такую же функцию, но для столбцов. Напишите тесты для кода"
      ]
    },
    {
      "cell_type": "code",
      "execution_count": 4,
      "metadata": {
        "id": "-8dEZhR0SBC-"
      },
      "outputs": [
        {
          "name": "stdout",
          "output_type": "stream",
          "text": [
            "Строка [[1, 2, 3], [4, 5, 6]]\n",
            "Столбец [[1, 4, 5], [2, 4], [3, 5, 6], [3, 6, 7]]\n",
            "Строка [['a', 'v', 'c'], ['a', 'b', 'c', 'd']]\n"
          ]
        }
      ],
      "source": [
        "def unique_rows(mat):\n",
        "    finalResult = []\n",
        "    for row in mat:\n",
        "        result = []\n",
        "        for num in row:\n",
        "            if num in result:\n",
        "                continue\n",
        "            else:\n",
        "                result.append(num)\n",
        "        finalResult.append(result)\n",
        "    return finalResult\n",
        "\n",
        "def unique_columns(mat):\n",
        "    finalResult = []\n",
        "    size = mat.shape\n",
        "    for x in range(0, size[1]):\n",
        "        result =[]\n",
        "        for y in range(0, size[0]):\n",
        "            if mat[y,x] in result:\n",
        "                continue\n",
        "            else:\n",
        "                result.append(mat[y,x])\n",
        "        finalResult.append(result)\n",
        "    return finalResult\n",
        "\n",
        "print(\"Строка\",unique_rows(np.array([[1, 2, 3, 3], [4, 4, 5, 6]])))\n",
        "print(\"Столбец\",unique_columns(np.array([[1, 2, 3, 3], [4, 4, 5, 6], [1, 2, 3, 3],[5, 2, 6, 7]])))\n",
        "print(\"Строка\",unique_rows(np.array([[\"a\", \"v\", \"v\", \"c\"], [\"a\", \"b\", \"c\", \"d\"]])))"
      ]
    },
    {
      "cell_type": "markdown",
      "metadata": {
        "id": "roYAlo4Jz-lH"
      },
      "source": [
        "<h1>Задача 4. Напишите функцию, которая заполняет матрицу с размерами $(m, n)$ случайными числами, распределенными по нормальному закону. Затем считает мат. ожидание и дисперсию для каждого из столбцов и строк, а также строит для каждой строки и столбца гистограмму значений (использовать функцию hist из модуля matplotlib.plot)"
      ]
    },
    {
      "cell_type": "code",
      "execution_count": 28,
      "metadata": {
        "id": "nZK_71hMSQzv"
      },
      "outputs": [
        {
          "name": "stdout",
          "output_type": "stream",
          "text": [
            "[[4 2 6 7]\n",
            " [1 9 1 9]\n",
            " [9 2 6 7]]\n",
            "Мат  ожидание строки [4.75 5.   6.  ]\n",
            "Дисперсия строки [ 3.6875 16.      6.5   ]\n",
            "Мат  ожидание столбца [4.66666667 4.33333333 4.33333333 7.66666667]\n",
            "Дисперсия столбца [10.88888889 10.88888889  5.55555556  0.88888889]\n"
          ]
        },
        {
          "data": {
            "text/plain": [
              "'Неправильный размер матриц'"
            ]
          },
          "execution_count": 28,
          "metadata": {},
          "output_type": "execute_result"
        },
        {
          "data": {
            "image/png": "[encoded data removed]",
            "text/plain": [
              "<Figure size 640x480 with 1 Axes>"
            ]
          },
          "metadata": {},
          "output_type": "display_data"
        }
      ],
      "source": [
        "def magic(m,n):\n",
        "    if m < 0 or n < 0:\n",
        "        return \"Неправильный размер матриц\"    \n",
        "    matrix = np.random.randint(0,10, size=(m, n))\n",
        "    print(matrix)\n",
        "    calculate(matrix)\n",
        "    plot_histograms(matrix)\n",
        "    return\n",
        "\n",
        "def calculate(matrix):\n",
        "    print(\"Мат  ожидание строки\" ,np.mean(matrix, axis = 1))\n",
        "    print(\"Дисперсия строки\",np.var(matrix, axis = 1))\n",
        "    print(\"Мат  ожидание столбца\",np.mean(matrix, axis = 0))\n",
        "    print(\"Дисперсия столбца\", np.var(matrix, axis = 0))\n",
        "\n",
        "def plot_histograms(matrix):\n",
        "    x = []\n",
        "    y = []\n",
        "    for a in matrix:\n",
        "        for b in a:\n",
        "            y.append(b)\n",
        "    for i in range (0,len(y)):\n",
        "        x.append(i)\n",
        "    plt.bar(x,y)\n",
        "\n",
        "magic(3,4)\n",
        "magic(-3,4)"
      ]
    },
    {
      "cell_type": "markdown",
      "metadata": {
        "id": "BDyATNdM0dJ2"
      },
      "source": [
        "<h1>Задача 5. Напишите функцию, которая заполняет матрицу $(m, n)$ в шахматном порядке заданными числами $a$ и $b$. Напишите тесты для кода"
      ]
    },
    {
      "cell_type": "code",
      "execution_count": 58,
      "metadata": {
        "id": "RWNJYWQGecS6"
      },
      "outputs": [
        {
          "name": "stdout",
          "output_type": "stream",
          "text": [
            "[[1. 2. 1.]\n",
            " [2. 1. 2.]]\n",
            "\n",
            "[[1. 2. 1. 2. 1.]\n",
            " [2. 1. 2. 1. 2.]\n",
            " [1. 2. 1. 2. 1.]\n",
            " [2. 1. 2. 1. 2.]\n",
            " [1. 2. 1. 2. 1.]]\n",
            "\n",
            "Неправильный размер\n",
            "\n",
            "Неправильные условия\n"
          ]
        }
      ],
      "source": [
        "def chess(m, n, a, b):\n",
        "    \"\"\"\"\" Проверка на тип данных \"\"\"\"\"\n",
        "    if (type(m) != int) or (type(n) != int) or (type(a) != int) or (type(b) != int): \n",
        "        return \"Неправильные условия\"\n",
        "    \"\"\"\"\" Проверка на размер \"\"\"\"\"\n",
        "    if m < 0 or n < 0:\n",
        "        return \"Неправильный размер\" \n",
        "    matrix = np.zeros((m, n))\n",
        "    counter=0\n",
        "    for height in range(0,m):\n",
        "        for width in range(0,n):\n",
        "            if counter % 2 == 0:\n",
        "                matrix[height, width] = a\n",
        "            else:\n",
        "                matrix[height, width] = b\n",
        "            counter += 1\n",
        "    return matrix\n",
        "\n",
        "print(chess(2,3,1,2))\n",
        "print()\n",
        "print(chess(5,5,1,2))\n",
        "print()\n",
        "print(chess(-5,5,1,2))\n",
        "print()\n",
        "print(chess(\"a\",5,1,2))"
      ]
    },
    {
      "cell_type": "markdown",
      "metadata": {
        "id": "-ymXLtTN0vB6"
      },
      "source": [
        "<h1>Задача 6. Напишите функцию, которая отрисовывает прямоугольник с заданными размерами (a, b) на изображении размера (m, n), цвет фона задайте в схеме RGB, как и цвет прямоугольника. Цвета также должны быть параметрами функции. Напишите аналогичную функцию но для овала с полуосями a и b. Напишите тесты для кода.\n",
        "Примечание: уравнение эллипса (границы овала) можно записать как:\n",
        "<h1>$\\frac{(x-x_0)^2}{a^2}+\\frac{(y-y_0)^2}{b^2}=1$"
      ]
    },
    {
      "cell_type": "code",
      "execution_count": 30,
      "metadata": {
        "id": "sNfl1t_kfOF4"
      },
      "outputs": [
        {
          "name": "stderr",
          "output_type": "stream",
          "text": [
            "Clipping input data to the valid range for imshow with RGB data ([0..1] for floats or [0..255] for integers).\n"
          ]
        },
        {
          "data": {
            "image/png": "[encoded data removed]",
            "text/plain": [
              "<Figure size 640x480 with 1 Axes>"
            ]
          },
          "metadata": {},
          "output_type": "display_data"
        },
        {
          "name": "stderr",
          "output_type": "stream",
          "text": [
            "Clipping input data to the valid range for imshow with RGB data ([0..1] for floats or [0..255] for integers).\n"
          ]
        },
        {
          "data": {
            "image/png": "[encoded data removed]",
            "text/plain": [
              "<Figure size 640x480 with 1 Axes>"
            ]
          },
          "metadata": {},
          "output_type": "display_data"
        }
      ],
      "source": [
        "def draw_rectangle(a, b, m, n, rectangle_color, background_color):\n",
        "    img = np.zeros((m, n, 3))\n",
        "    img[:, :] = background_color\n",
        "    x_start = (m - a) // 2\n",
        "    x_end = x_start + a\n",
        "    y_start = (n - b) // 2\n",
        "    y_end = y_start + b\n",
        "    img[x_start:x_end, y_start:y_end] = rectangle_color\n",
        "    plt.imshow(img)\n",
        "    plt.axis('off')\n",
        "    plt.show()\n",
        "\n",
        "def draw_ellipse(a, b, m, n, ellipse_color, background_color):\n",
        "    img = np.zeros((m, n, 3))\n",
        "    img[:, :] = background_color\n",
        "    x0 = m // 2\n",
        "    y0 = n // 2\n",
        "    for x in range(m):\n",
        "        for y in range(n):\n",
        "            if ((x - x0) ** 2 / a ** 2 + (y - y0) ** 2 / b ** 2) <= 1:\n",
        "                img[x, y] = ellipse_color\n",
        "    plt.imshow(img)\n",
        "    plt.axis('off')\n",
        "    plt.show()\n",
        "\n",
        "a = 100\n",
        "b = 50\n",
        "m = 200\n",
        "n = 200\n",
        "rectangle_color = [0, 255, 0]\n",
        "background_color = [155, 255, 255]\n",
        "draw_rectangle(a, b, m, n, rectangle_color, background_color)\n",
        "\n",
        "a = 100\n",
        "b = 50\n",
        "m = 200\n",
        "n = 200\n",
        "ellipse_color = [0, 0, 255]\n",
        "background_color = [155, 255, 255]\n",
        "draw_ellipse(a, b, m, n, ellipse_color, background_color)"
      ]
    },
    {
      "cell_type": "markdown",
      "metadata": {
        "id": "S82c38oz244H"
      },
      "source": [
        "<h1>Задача 7. Дан некий временной ряд. Для данного ряда нужно найти его: математическое ожидание, дисперсию, СКО, найти все локальные максимумы и минимумы (локальный максимум - это точка, которая больше своих соседних точек, а локальный минимум - это точка, которая меньше своих соседей), а также вычислить для данного ряда другой ряд, получаемый методом скользящего среднего с размером окна $p$.\n",
        "<h1>Примечание: метод скользящего среднего подразумевает нахождение среднего из подмножетсва ряда размером $p$"
      ]
    },
    {
      "cell_type": "code",
      "execution_count": 58,
      "metadata": {
        "id": "Zb9mIVge5MMt"
      },
      "outputs": [
        {
          "name": "stdout",
          "output_type": "stream",
          "text": [
            "Временной ряд =  [1, 2, 3, 4, 5, 3]\n",
            "Математическое ожидание =  3.0\n",
            "Дисперсия =  1.6666666666666667\n",
            "Среднее квадратичное отклонение =  1.2909944487358056\n",
            "Минимумы  [1, 3]\n",
            "Максимумы  [5]\n",
            "Скользящее среднее  [2.0, 6.0]\n",
            "\n",
            "Временной ряд =  [3, 0, 1, 9, 5, 7, 3]\n",
            "Математическое ожидание =  4.0\n",
            "Дисперсия =  8.857142857142858\n",
            "Среднее квадратичное отклонение =  2.9760952365713798\n",
            "Минимумы  [0, 5, 3]\n",
            "Максимумы  [3, 9, 7]\n",
            "Скользящее среднее  [4.0]\n",
            "\n"
          ]
        }
      ],
      "source": [
        "def magic(time_series, p):\n",
        "    print(\"Временной ряд = \", time_series)\n",
        "    mean = np.mean(time_series)\n",
        "    print(\"Математическое ожидание = \", mean)\n",
        "    variance = np.var(time_series)\n",
        "    print(\"Дисперсия = \", variance)\n",
        "    std = np.std(time_series)\n",
        "    print(\"Среднее квадратичное отклонение = \", std)\n",
        "    minAndMaxs(time_series)\n",
        "    moving_average(time_series, p)\n",
        "    print()\n",
        "\n",
        "def minAndMaxs(time_series):\n",
        "    length = len(time_series)\n",
        "    mins = []\n",
        "    maxs = []\n",
        "    for i in range(0, length):\n",
        "        if i == 0:\n",
        "            if time_series[i] < time_series[i+1]:\n",
        "                mins.append(time_series[i])\n",
        "            if time_series[i] > time_series[i+1]:\n",
        "                maxs.append(time_series[i])\n",
        "        if i > 0 and i < length - 1:\n",
        "            if time_series[i] > time_series[i+1] and time_series[i] > time_series[i-1]:\n",
        "                maxs.append(time_series[i])\n",
        "            if time_series[i] < time_series[i+1] and time_series[i] < time_series[i-1]:\n",
        "                mins.append(time_series[i])\n",
        "        if i == length-1:\n",
        "            if time_series[i] < time_series[i-1]:\n",
        "                mins.append(time_series[i])\n",
        "            if time_series[i] > time_series[i-1]:\n",
        "                maxs.append(time_series[i])\n",
        "    print(\"Минимумы \",mins)\n",
        "    print(\"Максимумы \",maxs)\n",
        "\n",
        "def moving_average(time_series, p):\n",
        "    result = []\n",
        "    counter = 0\n",
        "    summ = 0\n",
        "    for i in range(0, len(time_series)):\n",
        "        if counter != p:\n",
        "            summ += time_series[i]\n",
        "            counter += 1\n",
        "        if counter == p:\n",
        "            result.append(summ / p)\n",
        "            counter = 0\n",
        "            sum = 0 \n",
        "    print(\"Скользящее среднее \",result)\n",
        "\n",
        "magic([1, 2, 3, 4, 5, 3], 3)\n",
        "magic([3, 0, 1, 9, 5, 7, 3], 7)\n"
      ]
    },
    {
      "cell_type": "markdown",
      "metadata": {
        "id": "jPkylmOX5O9n"
      },
      "source": [
        "<h1> Задача 8. Дан некоторый вектор с целочисленными метками классов, напишите функцию, которая выполняет one-hot-encoding для данного вектора\n",
        "<h1> One-hot-encoding - представление, в котором на месте метки некоторого класса стоит 1, в остальных позициях стоит 0. Например для вектора [0, 2, 3, 0] one-hot-encoding выглядит как: [[1, 0, 0, 0], [0, 0, 1, 0], [0, 0, 0, 1], [1, 0, 0, 0]]"
      ]
    },
    {
      "cell_type": "code",
      "execution_count": 113,
      "metadata": {
        "id": "Y-jlnZvw56lD"
      },
      "outputs": [
        {
          "name": "stdout",
          "output_type": "stream",
          "text": [
            "[[1. 0. 0. 0.]\n",
            " [0. 1. 0. 0.]\n",
            " [0. 0. 1. 0.]\n",
            " [1. 0. 0. 0.]]\n",
            "\n",
            "[[1. 0. 0. 0. 0. 0. 0. 0. 0.]\n",
            " [0. 1. 0. 0. 0. 0. 0. 0. 0.]\n",
            " [0. 0. 1. 0. 0. 0. 0. 0. 0.]\n",
            " [0. 0. 0. 1. 0. 0. 0. 0. 0.]\n",
            " [0. 0. 0. 0. 1. 0. 0. 0. 0.]\n",
            " [0. 0. 0. 1. 0. 0. 0. 0. 0.]\n",
            " [0. 0. 0. 0. 0. 1. 0. 0. 0.]\n",
            " [0. 0. 0. 0. 0. 0. 1. 0. 0.]\n",
            " [1. 0. 0. 0. 0. 0. 0. 0. 0.]]\n"
          ]
        }
      ],
      "source": [
        "def OHE(vector):\n",
        "    counter1 = 0\n",
        "    counter2 = 0\n",
        "    length = len(vector)\n",
        "    array = np.zeros((length, length))\n",
        "    dictionary = {}\n",
        "    for i in range(0, length):\n",
        "        if vector[i] not in dictionary:\n",
        "            dictionary[vector[i]] = counter2\n",
        "            counter2 +=1\n",
        "            array[i, dictionary[vector[i]]] = 1\n",
        "        if vector[i] in dictionary:\n",
        "            array[i, dictionary[vector[i]]] = 1\n",
        "    return array\n",
        "\n",
        "print(OHE([0, 2, 3, 0]))\n",
        "print()\n",
        "print(OHE([0, 2, 3, 5 ,4, 5, 6, 7, 0]))"
      ]
    }
  ],
  "metadata": {
    "colab": {
      "provenance": []
    },
    "kernelspec": {
      "display_name": "Python 3 (ipykernel)",
      "language": "python",
      "name": "python3"
    },
    "language_info": {
      "codemirror_mode": {
        "name": "ipython",
        "version": 3
      },
      "file_extension": ".py",
      "mimetype": "text/x-python",
      "name": "python",
      "nbconvert_exporter": "python",
      "pygments_lexer": "ipython3",
      "version": "3.10.8"
    }
  },
  "nbformat": 4,
  "nbformat_minor": 0
}
