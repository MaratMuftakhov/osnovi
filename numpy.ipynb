{
  "cells": [
    {
      "cell_type": "markdown",
      "metadata": {
        "id": "vC84e9kzyxPy"
      },
      "source": [
        "<h1>Импорт библиотек"
      ]
    },
    {
      "cell_type": "code",
      "execution_count": 15,
      "metadata": {
        "id": "cgKeNegmQG5S"
      },
      "outputs": [],
      "source": [
        "import numpy as np\n",
        "import matplotlib.pyplot as plt\n",
        "import scipy.stats as sps\n",
        "import matplotlib.patches as patches"
      ]
    },
    {
      "cell_type": "markdown",
      "metadata": {
        "id": "qFM9uVU2x4Ls"
      },
      "source": [
        "<h1>Задача 1. Дан набор из $p$ матриц размерностью $(n, n)$ и $p$ векторов размерностью $(n, 1)$, найти сумму произведений матриц на векторы. Написать тесты для кода"
      ]
    },
    {
      "cell_type": "code",
      "execution_count": 84,
      "metadata": {
        "id": "IAbUvEiYyWFF"
      },
      "outputs": [
        {
          "name": "stdout",
          "output_type": "stream",
          "text": [
            "[[25]\n",
            " [10]\n",
            " [22]]\n",
            "\n",
            "[[50]\n",
            " [15]\n",
            " [47]]\n",
            "\n",
            "Неправильные матрицы\n"
          ]
        }
      ],
      "source": [
        "def sum_prod(X, V):\n",
        "    if X.dtype != int or V.dtype != int:\n",
        "        return \"Неправильные матрицы\"\n",
        "    if type(X) != np.ndarray or type(V) != np.ndarray:\n",
        "        X = np.array(X)\n",
        "        V = np.array(V)\n",
        "    summa = sum(X.dot(i) for i in V)\n",
        "    return summa\n",
        "print(sum_prod(np.array([[1,9,2], [3, 2, 1], [9, 2, 3]]), np.array([[[1], [2], [3]]])))\n",
        "print()\n",
        "print(sum_prod(np.array([[1, 9, 2, 5], [3, 2, 1, 1], [9, 2, 3, 5]]), np.array([[[1], [2], [3],[5]]] )))\n",
        "print()\n",
        "print(sum_prod(np.array([[\"1\",\"9\",\"2\"], [\"3\", \"2\", \"1\"], [9, 2, 3]]), np.array([[[1], [2], [3]]])))\n"
      ]
    },
    {
      "cell_type": "markdown",
      "metadata": {
        "id": "TKwPG4fIy2w4"
      },
      "source": [
        "<h1>Задача 2. Дана матрица M, напишите функцию, которая бинаризует матрицу по некоторому threshold (то есть, все значения большие threshold становятся равными 1, иначе 0). Напишите тесты для кода"
      ]
    },
    {
      "cell_type": "code",
      "execution_count": 32,
      "metadata": {
        "id": "KQDNMgsjRNH7"
      },
      "outputs": [
        {
          "name": "stdout",
          "output_type": "stream",
          "text": [
            "[[0 0 1]\n",
            " [1 0 0]]\n",
            "\n",
            "Неправильная матрица\n",
            "\n",
            "[[1 0 1]\n",
            " [1 0 0]\n",
            " [1 0 1]]\n"
          ]
        }
      ],
      "source": [
        "def binarize(M, threshold=2):\n",
        "    if M.dtype != int:\n",
        "        return \"Неправильная матрица\"\n",
        "    size = M.shape\n",
        "    for height in range(0,size[0]):\n",
        "        for width in range(0,size[1]):\n",
        "            if M[height, width] > threshold:\n",
        "                M[height, width] = 1\n",
        "            else:\n",
        "                M[height, width] = 0\n",
        "    return M\n",
        "\n",
        "print(binarize(np.array([[1,2,3],[3,2,1]])))\n",
        "print()\n",
        "print(binarize(np.array([[\"а\",\"ьб\",\"б\"],[\"г\",\"2\",\"1\"]])))\n",
        "print()\n",
        "print(binarize(np.array([[7,2,3],[3,2,1],[3,1,7]])))\n",
        "\n"
      ]
    },
    {
      "cell_type": "markdown",
      "metadata": {
        "id": "IY5L-h-7zWhN"
      },
      "source": [
        "<h1>Задача 3. Напишите функцию, которая возвращает уникальные элементы из каждой строки матрицы. Напишите такую же функцию, но для столбцов. Напишите тесты для кода"
      ]
    },
    {
      "cell_type": "code",
      "execution_count": 88,
      "metadata": {
        "id": "-8dEZhR0SBC-"
      },
      "outputs": [
        {
          "name": "stdout",
          "output_type": "stream",
          "text": [
            "[[1, 2, 3], [4, 5, 6]]\n",
            "[[1, 4, 5], [2, 4], [3, 5, 6], [3, 6, 7]]\n",
            "[['a', 'v', 'c'], ['a', 'b', 'c', 'd']]\n"
          ]
        }
      ],
      "source": [
        "def unique_rows(mat):\n",
        "    finalResult = []\n",
        "    for row in mat:\n",
        "        result = []\n",
        "        for num in row:\n",
        "            if num in result:\n",
        "                continue\n",
        "            else:\n",
        "                result.append(num)\n",
        "        finalResult.append(result)\n",
        "    return finalResult\n",
        "\n",
        "def unique_columns(mat):\n",
        "    finalResult = []\n",
        "    size = mat.shape\n",
        "    for x in range(0, size[1]):\n",
        "        result =[]\n",
        "        for y in range(0, size[0]):\n",
        "            if mat[y,x] in result:\n",
        "                continue\n",
        "            else:\n",
        "                result.append(mat[y,x])\n",
        "        finalResult.append(result)\n",
        "    return finalResult\n",
        "\n",
        "print(unique_rows(np.array([[1, 2, 3, 3], [4, 4, 5, 6]])))\n",
        "print(unique_columns(np.array([[1, 2, 3, 3], [4, 4, 5, 6], [1, 2, 3, 3],[5, 2, 6, 7]])))\n",
        "print(unique_rows(np.array([[\"a\", \"v\", \"v\", \"c\"], [\"a\", \"b\", \"c\", \"d\"]])))"
      ]
    },
    {
      "cell_type": "markdown",
      "metadata": {
        "id": "roYAlo4Jz-lH"
      },
      "source": [
        "<h1>Задача 4. Напишите функцию, которая заполняет матрицу с размерами $(m, n)$ случайными числами, распределенными по нормальному закону. Затем считает мат. ожидание и дисперсию для каждого из столбцов и строк, а также строит для каждой строки и столбца гистограмму значений (использовать функцию hist из модуля matplotlib.plot)"
      ]
    },
    {
      "cell_type": "code",
      "execution_count": 2,
      "metadata": {
        "id": "nZK_71hMSQzv"
      },
      "outputs": [
        {
          "name": "stdout",
          "output_type": "stream",
          "text": [
            "[[3 1 1]\n",
            " [2 0 4]]\n"
          ]
        }
      ],
      "source": [
        "def magic(m,n):\n",
        "    matrix = randomize(m,n)\n",
        "    pass\n",
        "\n",
        "def randomize(m,n):\n",
        "    return np.random.randint(1, 10, size =(m, n))\n",
        "\n",
        "def calculateMathRow(matrix):\n",
        "    result = 0\n",
        "    for row in matrix:\n",
        "        for num in row:\n",
        "            result += num * 0.1\n",
        "    pass\n",
        "\n",
        "def calculateMathColumn():\n",
        "    pass\n",
        "\n",
        "def calculateDisp():\n",
        "    pass\n",
        "\n",
        "def hist():\n",
        "    pass\n",
        "\n",
        "print (magic(2,3))"
      ]
    },
    {
      "cell_type": "markdown",
      "metadata": {
        "id": "BDyATNdM0dJ2"
      },
      "source": [
        "<h1>Задача 5. Напишите функцию, которая заполняет матрицу $(m, n)$ в шахматном порядке заданными числами $a$ и $b$. Напишите тесты для кода"
      ]
    },
    {
      "cell_type": "code",
      "execution_count": 58,
      "metadata": {
        "id": "RWNJYWQGecS6"
      },
      "outputs": [
        {
          "name": "stdout",
          "output_type": "stream",
          "text": [
            "[[1. 2. 1.]\n",
            " [2. 1. 2.]]\n",
            "\n",
            "[[1. 2. 1. 2. 1.]\n",
            " [2. 1. 2. 1. 2.]\n",
            " [1. 2. 1. 2. 1.]\n",
            " [2. 1. 2. 1. 2.]\n",
            " [1. 2. 1. 2. 1.]]\n",
            "\n",
            "Неправильный размер\n",
            "\n",
            "Неправильные условия\n"
          ]
        }
      ],
      "source": [
        "def chess(m, n, a, b):\n",
        "    \"\"\"\"\" Проверка на тип данных \"\"\"\"\"\n",
        "    if (type(m) != int) or (type(n) != int) or (type(a) != int) or (type(b) != int): \n",
        "        return \"Неправильные условия\"\n",
        "    \"\"\"\"\" Проверка на размер \"\"\"\"\"\n",
        "    if m < 0 or n < 0:\n",
        "        return \"Неправильный размер\" \n",
        "    matrix = np.zeros((m, n))\n",
        "    counter=0\n",
        "    for height in range(0,m):\n",
        "        for width in range(0,n):\n",
        "            if counter % 2 == 0:\n",
        "                matrix[height, width] = a\n",
        "            else:\n",
        "                matrix[height, width] = b\n",
        "            counter += 1\n",
        "    return matrix\n",
        "\n",
        "print(chess(2,3,1,2))\n",
        "print()\n",
        "print(chess(5,5,1,2))\n",
        "print()\n",
        "print(chess(-5,5,1,2))\n",
        "print()\n",
        "print(chess(\"a\",5,1,2))"
      ]
    },
    {
      "cell_type": "markdown",
      "metadata": {
        "id": "-ymXLtTN0vB6"
      },
      "source": [
        "<h1>Задача 6. Напишите функцию, которая отрисовывает прямоугольник с заданными размерами (a, b) на изображении размера (m, n), цвет фона задайте в схеме RGB, как и цвет прямоугольника. Цвета также должны быть параметрами функции. Напишите аналогичную функцию но для овала с полуосями a и b. Напишите тесты для кода.\n",
        "Примечание: уравнение эллипса (границы овала) можно записать как:\n",
        "<h1>$\\frac{(x-x_0)^2}{a^2}+\\frac{(y-y_0)^2}{b^2}=1$"
      ]
    },
    {
      "cell_type": "code",
      "execution_count": 82,
      "metadata": {
        "id": "sNfl1t_kfOF4"
      },
      "outputs": [
        {
          "name": "stdout",
          "output_type": "stream",
          "text": [
            "Неправильное условие\n",
            "Неправильное условие\n",
            "Неправильное условие\n",
            "\n"
          ]
        },
        {
          "data": {
            "image/png": "[encoded data removed]",
            "text/plain": [
              "<Figure size 640x480 with 1 Axes>"
            ]
          },
          "metadata": {},
          "output_type": "display_data"
        }
      ],
      "source": [
        "def draw_rectangle(a, b, m, n, rectangle_color, background_color):\n",
        "    if check_conditions(a, b, m, n, rectangle_color, background_color) == False:\n",
        "        print (\"Неправильное условие\")\n",
        "        return\n",
        "    ax = plt.subplot()\n",
        "    ax.scatter([0,4],[0,4], color = background_color)\n",
        "    ax.set_facecolor(background_color)\n",
        "    ax.add_patch(\n",
        "     patches.Rectangle(\n",
        "        (1, 1),\n",
        "        m,\n",
        "        n,\n",
        "        edgecolor = rectangle_color,\n",
        "        facecolor = rectangle_color,\n",
        "        fill=True\n",
        "     ) )\n",
        "\n",
        "def check_conditions(a, b, m, n, rectangle_color, background_color):\n",
        "    for a in rectangle_color:\n",
        "        if type(a) != float or a < 0 or a > 1:\n",
        "            return False\n",
        "    for a in background_color:\n",
        "        if type(a) != float or a < 0 or a > 1:\n",
        "            return False\n",
        "    if m < 0 or n < 0:\n",
        "        return False\n",
        "    return True\n",
        "\n",
        "def draw_ellipse(a, b, m, n, ellipse_color, background_color):\n",
        "    bx = plt.subplot()\n",
        "    bx.scatter([0,4],[0,4], color = background_color)\n",
        "    bx.set_facecolor(background_color)\n",
        "    pass\n",
        "\n",
        "draw_rectangle(1, 2, 3, 3, [0.1, 0.3, 0.5], [0.8, 0.4, 0.4])\n",
        "draw_rectangle(1, 2, -3, 3, [0.1, 0.3, 0.5], [0.8, 0.4, 0.4])\n",
        "draw_rectangle(1, 2, 3, 3, [-0.1, -0.3, -0.5], [0.8, 0.4, 0.4])\n",
        "draw_rectangle(1, 2, 3, 3, [0.1, 0.3, 0.5], [-0.8, -0.4, -0.4])\n",
        "print()\n",
        "draw_ellipse(1, 2, 3, 3, [0.7, 0.3, 0.5], [0.9, 0.9, 0.4])\n",
        "\n"
      ]
    },
    {
      "cell_type": "markdown",
      "metadata": {
        "id": "S82c38oz244H"
      },
      "source": [
        "<h1>Задача 7. Дан некий временной ряд. Для данного ряда нужно найти его: математическое ожидание, дисперсию, СКО, найти все локальные максимумы и минимумы (локальный максимум - это точка, которая больше своих соседних точек, а локальный минимум - это точка, которая меньше своих соседей), а также вычислить для данного ряда другой ряд, получаемый методом скользящего среднего с размером окна $p$.\n",
        "<h1>Примечание: метод скользящего среднего подразумевает нахождение среднего из подмножетсва ряда размером $p$"
      ]
    },
    {
      "cell_type": "code",
      "execution_count": null,
      "metadata": {
        "id": "Zb9mIVge5MMt"
      },
      "outputs": [],
      "source": [
        "# Your code goes here"
      ]
    },
    {
      "cell_type": "markdown",
      "metadata": {
        "id": "jPkylmOX5O9n"
      },
      "source": [
        "<h1> Задача 8. Дан некоторый вектор с целочисленными метками классов, напишите функцию, которая выполняет one-hot-encoding для данного вектора\n",
        "<h1> One-hot-encoding - представление, в котором на месте метки некоторого класса стоит 1, в остальных позициях стоит 0. Например для вектора [0, 2, 3, 0] one-hot-encoding выглядит как: [[1, 0, 0, 0], [0, 0, 1, 0], [0, 0, 0, 1], [1, 0, 0, 0]]"
      ]
    },
    {
      "cell_type": "code",
      "execution_count": null,
      "metadata": {
        "id": "Y-jlnZvw56lD"
      },
      "outputs": [],
      "source": [
        "# Your code goes here"
      ]
    }
  ],
  "metadata": {
    "colab": {
      "provenance": []
    },
    "kernelspec": {
      "display_name": "Python 3 (ipykernel)",
      "language": "python",
      "name": "python3"
    },
    "language_info": {
      "codemirror_mode": {
        "name": "ipython",
        "version": 3
      },
      "file_extension": ".py",
      "mimetype": "text/x-python",
      "name": "python",
      "nbconvert_exporter": "python",
      "pygments_lexer": "ipython3",
      "version": "3.10.8"
    }
  },
  "nbformat": 4,
  "nbformat_minor": 0
}
